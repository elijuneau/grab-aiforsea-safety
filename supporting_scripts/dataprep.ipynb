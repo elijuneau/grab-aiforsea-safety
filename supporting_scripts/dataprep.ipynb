{
 "cells": [
  {
   "cell_type": "code",
   "execution_count": 1,
   "metadata": {},
   "outputs": [],
   "source": [
    "import numpy as np\n",
    "import pandas as pd\n",
    "from google.cloud import storage\n",
    "import time"
   ]
  },
  {
   "cell_type": "markdown",
   "metadata": {},
   "source": [
    "### Read and union all telematics data"
   ]
  },
  {
   "cell_type": "code",
   "execution_count": 2,
   "metadata": {},
   "outputs": [],
   "source": [
    "start = time.time()\n",
    "df1 = pd.read_csv('gs://grab_safety/safety/features/part-00000-e6120af0-10c2-4248-97c4-81baf4304e5c-c000.csv')\n",
    "df2 = pd.read_csv('gs://grab_safety/safety/features/part-00001-e6120af0-10c2-4248-97c4-81baf4304e5c-c000.csv')\n",
    "df3 = pd.read_csv('gs://grab_safety/safety/features/part-00002-e6120af0-10c2-4248-97c4-81baf4304e5c-c000.csv')\n",
    "df4 = pd.read_csv('gs://grab_safety/safety/features/part-00003-e6120af0-10c2-4248-97c4-81baf4304e5c-c000.csv')\n",
    "df5 = pd.read_csv('gs://grab_safety/safety/features/part-00004-e6120af0-10c2-4248-97c4-81baf4304e5c-c000.csv')\n",
    "df6 = pd.read_csv('gs://grab_safety/safety/features/part-00005-e6120af0-10c2-4248-97c4-81baf4304e5c-c000.csv')\n",
    "df7 = pd.read_csv('gs://grab_safety/safety/features/part-00006-e6120af0-10c2-4248-97c4-81baf4304e5c-c000.csv')\n",
    "df8 = pd.read_csv('gs://grab_safety/safety/features/part-00007-e6120af0-10c2-4248-97c4-81baf4304e5c-c000.csv')\n",
    "df9 = pd.read_csv('gs://grab_safety/safety/features/part-00008-e6120af0-10c2-4248-97c4-81baf4304e5c-c000.csv')\n",
    "df10 = pd.read_csv('gs://grab_safety/safety/features/part-00009-e6120af0-10c2-4248-97c4-81baf4304e5c-c000.csv')\n",
    "end = time.time()"
   ]
  },
  {
   "cell_type": "code",
   "execution_count": 3,
   "metadata": {},
   "outputs": [
    {
     "name": "stdout",
     "output_type": "stream",
     "text": [
      "Reading Time: 144.47653484344482 seconds\n"
     ]
    }
   ],
   "source": [
    "print(\"Reading Time:\", end - start, \"seconds\")"
   ]
  },
  {
   "cell_type": "code",
   "execution_count": 4,
   "metadata": {},
   "outputs": [],
   "source": [
    "# union all available telematics data\n",
    "tele = pd.concat([df1, df2, df3, df4, df5, df6, df7, df8, df9, df10], ignore_index=True)"
   ]
  },
  {
   "cell_type": "code",
   "execution_count": 5,
   "metadata": {},
   "outputs": [],
   "source": [
    "# sort them by bookingID\n",
    "tele = tele.sort_values(by=[\"bookingID\"]).reset_index(drop=True)"
   ]
  },
  {
   "cell_type": "code",
   "execution_count": 22,
   "metadata": {},
   "outputs": [
    {
     "data": {
      "text/plain": [
       "(16135561, 11)"
      ]
     },
     "execution_count": 22,
     "metadata": {},
     "output_type": "execute_result"
    }
   ],
   "source": [
    "tele.shape"
   ]
  },
  {
   "cell_type": "code",
   "execution_count": 24,
   "metadata": {},
   "outputs": [
    {
     "data": {
      "text/plain": [
       "20000"
      ]
     },
     "execution_count": 24,
     "metadata": {},
     "output_type": "execute_result"
    }
   ],
   "source": [
    "len(tele.bookingID.unique())"
   ]
  },
  {
   "cell_type": "markdown",
   "metadata": {},
   "source": [
    "We have 20,000 trips with 15135561 telematics data."
   ]
  },
  {
   "cell_type": "markdown",
   "metadata": {},
   "source": [
    "### Identify & remove conflicting trips (Being labeled 0 & 1 at the same time)"
   ]
  },
  {
   "cell_type": "code",
   "execution_count": 6,
   "metadata": {},
   "outputs": [],
   "source": [
    "label = pd.read_csv('gs://grab_safety/safety/labels/part-00000-e9445087-aa0a-433b-a7f6-7f4c19d78ad6-c000.csv')"
   ]
  },
  {
   "cell_type": "code",
   "execution_count": 7,
   "metadata": {},
   "outputs": [],
   "source": [
    "# identify all bookingID with conflicting labels (multiple labels)\n",
    "conflict_trips = label.loc[label.bookingID.duplicated(), 'bookingID']"
   ]
  },
  {
   "cell_type": "code",
   "execution_count": 18,
   "metadata": {},
   "outputs": [
    {
     "name": "stdout",
     "output_type": "stream",
     "text": [
      "Number of conflicting trips: 18\n",
      "Number of telematics data involved: 18857\n"
     ]
    }
   ],
   "source": [
    "print(\"Number of conflicting trips:\", len(conflict_trips))\n",
    "print(\"Number of telematics data involved:\", tele.loc[tele.bookingID.isin(conflict_trips), 'bookingID'].value_counts().sum())"
   ]
  },
  {
   "cell_type": "markdown",
   "metadata": {},
   "source": [
    "There are 18 trips with conflicting labels. "
   ]
  },
  {
   "cell_type": "markdown",
   "metadata": {},
   "source": [
    "### Data Cleaning (Removed observations associated with conflicted trips)"
   ]
  },
  {
   "cell_type": "code",
   "execution_count": 19,
   "metadata": {},
   "outputs": [],
   "source": [
    "# feature data\n",
    "tele_new = tele[~tele['bookingID'].isin(conflict_trips)]\n",
    "label_new = label[~label['bookingID'].isin(conflict_trips)]"
   ]
  },
  {
   "cell_type": "code",
   "execution_count": 20,
   "metadata": {},
   "outputs": [
    {
     "data": {
      "text/plain": [
       "(16116704, 11)"
      ]
     },
     "execution_count": 20,
     "metadata": {},
     "output_type": "execute_result"
    }
   ],
   "source": [
    "tele_new.shape"
   ]
  },
  {
   "cell_type": "code",
   "execution_count": 26,
   "metadata": {},
   "outputs": [
    {
     "data": {
      "text/plain": [
       "(19982, 2)"
      ]
     },
     "execution_count": 26,
     "metadata": {},
     "output_type": "execute_result"
    }
   ],
   "source": [
    "label_new.shape"
   ]
  },
  {
   "cell_type": "markdown",
   "metadata": {},
   "source": [
    "We are now left with 19982 trips with 16116704 telematics data."
   ]
  },
  {
   "cell_type": "markdown",
   "metadata": {},
   "source": [
    "### Sub-sample 10% of the trips for benchmarking purpose"
   ]
  },
  {
   "cell_type": "markdown",
   "metadata": {},
   "source": [
    "We subsample the data of 10% of the trips as a hold-out dataset. We'll use this for testing purpose."
   ]
  },
  {
   "cell_type": "code",
   "execution_count": 12,
   "metadata": {},
   "outputs": [
    {
     "data": {
      "text/plain": [
       "count    19982.000000\n",
       "mean         0.249374\n",
       "std          0.432662\n",
       "min          0.000000\n",
       "25%          0.000000\n",
       "50%          0.000000\n",
       "75%          0.000000\n",
       "max          1.000000\n",
       "Name: label, dtype: float64"
      ]
     },
     "execution_count": 12,
     "metadata": {},
     "output_type": "execute_result"
    }
   ],
   "source": [
    "# 24.9374% of the trips are labelled dangerous\n",
    "label_new['label'].describe()"
   ]
  },
  {
   "cell_type": "markdown",
   "metadata": {},
   "source": [
    "The training data contains around 25% of trips tagged as 'dangerous'. Thus, an imbalanced data."
   ]
  },
  {
   "cell_type": "code",
   "execution_count": 27,
   "metadata": {},
   "outputs": [
    {
     "data": {
      "text/html": [
       "<div>\n",
       "<style scoped>\n",
       "    .dataframe tbody tr th:only-of-type {\n",
       "        vertical-align: middle;\n",
       "    }\n",
       "\n",
       "    .dataframe tbody tr th {\n",
       "        vertical-align: top;\n",
       "    }\n",
       "\n",
       "    .dataframe thead th {\n",
       "        text-align: right;\n",
       "    }\n",
       "</style>\n",
       "<table border=\"1\" class=\"dataframe\">\n",
       "  <thead>\n",
       "    <tr style=\"text-align: right;\">\n",
       "      <th></th>\n",
       "      <th></th>\n",
       "      <th>bookingID</th>\n",
       "      <th>label</th>\n",
       "    </tr>\n",
       "    <tr>\n",
       "      <th>label</th>\n",
       "      <th></th>\n",
       "      <th></th>\n",
       "      <th></th>\n",
       "    </tr>\n",
       "  </thead>\n",
       "  <tbody>\n",
       "    <tr>\n",
       "      <th rowspan=\"5\" valign=\"top\">0</th>\n",
       "      <th>3494</th>\n",
       "      <td>1030792151056</td>\n",
       "      <td>0</td>\n",
       "    </tr>\n",
       "    <tr>\n",
       "      <th>12143</th>\n",
       "      <td>249108103188</td>\n",
       "      <td>0</td>\n",
       "    </tr>\n",
       "    <tr>\n",
       "      <th>5987</th>\n",
       "      <td>1666447310919</td>\n",
       "      <td>0</td>\n",
       "    </tr>\n",
       "    <tr>\n",
       "      <th>13646</th>\n",
       "      <td>34359738484</td>\n",
       "      <td>0</td>\n",
       "    </tr>\n",
       "    <tr>\n",
       "      <th>4828</th>\n",
       "      <td>1133871366198</td>\n",
       "      <td>0</td>\n",
       "    </tr>\n",
       "  </tbody>\n",
       "</table>\n",
       "</div>"
      ],
      "text/plain": [
       "                 bookingID  label\n",
       "label                            \n",
       "0     3494   1030792151056      0\n",
       "      12143   249108103188      0\n",
       "      5987   1666447310919      0\n",
       "      13646    34359738484      0\n",
       "      4828   1133871366198      0"
      ]
     },
     "execution_count": 27,
     "metadata": {},
     "output_type": "execute_result"
    }
   ],
   "source": [
    "# sample 10% of the trips such that the proportion of dangerous trips is same as population (24.9374%)\n",
    "sample_trips= label_new.groupby('label').apply(lambda x: x.sample(frac=0.1, random_state=88))\n",
    "sample_trips.head()"
   ]
  },
  {
   "cell_type": "code",
   "execution_count": 32,
   "metadata": {},
   "outputs": [],
   "source": [
    "# sub-sample features data \n",
    "test_tele = tele_new[tele_new.bookingID.isin(sample_trips.bookingID)]\n",
    "train_tele = tele_new[~tele_new.bookingID.isin(test_tele.bookingID)]"
   ]
  },
  {
   "cell_type": "code",
   "execution_count": 35,
   "metadata": {},
   "outputs": [],
   "source": [
    "# output train and test (hold-out) datasets\n",
    "test_tele.to_csv('benchmark/bm_tele.csv', index=False)\n",
    "test_tele.to_csv('data/ori_tele.csv', index=False)"
   ]
  },
  {
   "cell_type": "markdown",
   "metadata": {},
   "source": [
    "From here on, all exploratory, feature engineering and train-validate process will be done on ori_tele.csv only"
   ]
  }
 ],
 "metadata": {
  "kernelspec": {
   "display_name": "Python 3",
   "language": "python",
   "name": "python3"
  },
  "language_info": {
   "codemirror_mode": {
    "name": "ipython",
    "version": 3
   },
   "file_extension": ".py",
   "mimetype": "text/x-python",
   "name": "python",
   "nbconvert_exporter": "python",
   "pygments_lexer": "ipython3",
   "version": "3.5.3"
  }
 },
 "nbformat": 4,
 "nbformat_minor": 2
}
