{
 "cells": [
  {
   "cell_type": "markdown",
   "metadata": {},
   "source": [
    "### Ensembled Modelling\n",
    "**(STAGE 1 Ensemble)**: Check correlation between predictions made by initial stage models. Choose only models with low correlation as candidate models. <br>"
   ]
  },
  {
   "cell_type": "code",
   "execution_count": 32,
   "metadata": {},
   "outputs": [],
   "source": [
    "import pandas as pd\n",
    "import numpy as np\n",
    "import pickle\n",
    "import seaborn as sns\n",
    "\n",
    "from sklearn import metrics\n",
    "from sklearn.model_selection import RandomizedSearchCV\n",
    "from sklearn.ensemble import RandomForestClassifier\n",
    "from sklearn.svm import SVC\n",
    "from sklearn.neural_network import MLPClassifier\n",
    "from xgboost.sklearn import XGBClassifier\n",
    "from sklearn.linear_model import LogisticRegression\n",
    "from sklearn.naive_bayes import GaussianNB\n",
    "from sklearn.discriminant_analysis import LinearDiscriminantAnalysis"
   ]
  },
  {
   "cell_type": "code",
   "execution_count": 33,
   "metadata": {},
   "outputs": [],
   "source": [
    "features = pd.read_csv('../data/preprocessed-train.csv', index_col = 'bookingID')"
   ]
  },
  {
   "cell_type": "code",
   "execution_count": 34,
   "metadata": {},
   "outputs": [],
   "source": [
    "y = pd.read_csv('../data/ori_labels.csv', index_col = 'bookingID')"
   ]
  },
  {
   "cell_type": "code",
   "execution_count": 35,
   "metadata": {},
   "outputs": [],
   "source": [
    "label = pd.merge(features.reset_index(), y, on='bookingID')['label']"
   ]
  },
  {
   "cell_type": "code",
   "execution_count": 36,
   "metadata": {},
   "outputs": [],
   "source": [
    "with open('../model_weights/model-config.pkl', 'rb') as f:  \n",
    "    model_config = pickle.load(f)"
   ]
  },
  {
   "cell_type": "markdown",
   "metadata": {},
   "source": [
    "#### Train all models on full data"
   ]
  },
  {
   "cell_type": "code",
   "execution_count": 37,
   "metadata": {},
   "outputs": [],
   "source": [
    "logistic = LogisticRegression(**model_config['logistic']['hyperparams'], max_iter=500)\n",
    "logistic.fit(features[model_config['logistic']['col_names']], label)\n",
    "pred_logistic = logistic.predict_proba(benchmark[model_config['logistic']['col_names']])"
   ]
  },
  {
   "cell_type": "code",
   "execution_count": 26,
   "metadata": {},
   "outputs": [],
   "source": [
    "lda = LinearDiscriminantAnalysis(**model_config['lda']['hyperparams'])\n",
    "lda.fit(features[model_config['lda']['col_names']], label)\n",
    "pred_lda = lda.predict_proba(benchmark[model_config['lda']['col_names']])"
   ]
  },
  {
   "cell_type": "code",
   "execution_count": 27,
   "metadata": {},
   "outputs": [],
   "source": [
    "naivebayes = GaussianNB(**model_config['naivebayes']['hyperparams'])\n",
    "naivebayes.fit(features[model_config['naivebayes']['col_names']], label)\n",
    "pred_naivebayes = naivebayes.predict_proba(benchmark[model_config['naivebayes']['col_names']])"
   ]
  },
  {
   "cell_type": "code",
   "execution_count": 28,
   "metadata": {},
   "outputs": [],
   "source": [
    "xgboost = XGBClassifier(**model_config['xgboost']['hyperparams'])\n",
    "xgboost.fit(features[model_config['xgboost']['col_names']], label)\n",
    "pred_xgboost = xgboost.predict_proba(benchmark[model_config['xgboost']['col_names']])"
   ]
  },
  {
   "cell_type": "code",
   "execution_count": 30,
   "metadata": {},
   "outputs": [],
   "source": [
    "mlp = MLPClassifier(**model_config['mlp']['hyperparams'], max_iter=500)\n",
    "mlp.fit(features[model_config['mlp']['col_names']], label)\n",
    "pred_mlp = mlp.predict_proba(benchmark[model_config['mlp']['col_names']])"
   ]
  },
  {
   "cell_type": "markdown",
   "metadata": {},
   "source": [
    "***"
   ]
  },
  {
   "cell_type": "code",
   "execution_count": 13,
   "metadata": {},
   "outputs": [],
   "source": [
    "pred_array = np.transpose(np.vstack((pred_logistic[:, 1], pred_lda[:, 1], pred_naivebayes[:, 1], pred_rf[:, 1], pred_xgboost[:, 1], pred_mlp[:, 1])))"
   ]
  },
  {
   "cell_type": "code",
   "execution_count": 14,
   "metadata": {},
   "outputs": [],
   "source": [
    "df = pd.DataFrame(pred_array, columns=['logistic', 'lda', 'naivebayes', 'rf', 'xgboost', 'mlp'])"
   ]
  },
  {
   "cell_type": "code",
   "execution_count": 15,
   "metadata": {},
   "outputs": [
    {
     "data": {
      "text/html": [
       "<style  type=\"text/css\" >\n",
       "    #T_e8d6cec4_8eab_11e9_8879_42010a8c0003row0_col0 {\n",
       "            background-color:  #b40426;\n",
       "            color:  #f1f1f1;\n",
       "        }    #T_e8d6cec4_8eab_11e9_8879_42010a8c0003row0_col1 {\n",
       "            background-color:  #cc403a;\n",
       "            color:  #f1f1f1;\n",
       "        }    #T_e8d6cec4_8eab_11e9_8879_42010a8c0003row0_col2 {\n",
       "            background-color:  #6687ed;\n",
       "            color:  #000000;\n",
       "        }    #T_e8d6cec4_8eab_11e9_8879_42010a8c0003row0_col3 {\n",
       "            background-color:  #f7bca1;\n",
       "            color:  #000000;\n",
       "        }    #T_e8d6cec4_8eab_11e9_8879_42010a8c0003row0_col4 {\n",
       "            background-color:  #f29274;\n",
       "            color:  #000000;\n",
       "        }    #T_e8d6cec4_8eab_11e9_8879_42010a8c0003row0_col5 {\n",
       "            background-color:  #f7af91;\n",
       "            color:  #000000;\n",
       "        }    #T_e8d6cec4_8eab_11e9_8879_42010a8c0003row1_col0 {\n",
       "            background-color:  #cb3e38;\n",
       "            color:  #f1f1f1;\n",
       "        }    #T_e8d6cec4_8eab_11e9_8879_42010a8c0003row1_col1 {\n",
       "            background-color:  #b40426;\n",
       "            color:  #f1f1f1;\n",
       "        }    #T_e8d6cec4_8eab_11e9_8879_42010a8c0003row1_col2 {\n",
       "            background-color:  #7a9df8;\n",
       "            color:  #000000;\n",
       "        }    #T_e8d6cec4_8eab_11e9_8879_42010a8c0003row1_col3 {\n",
       "            background-color:  #f7b89c;\n",
       "            color:  #000000;\n",
       "        }    #T_e8d6cec4_8eab_11e9_8879_42010a8c0003row1_col4 {\n",
       "            background-color:  #f39778;\n",
       "            color:  #000000;\n",
       "        }    #T_e8d6cec4_8eab_11e9_8879_42010a8c0003row1_col5 {\n",
       "            background-color:  #f7ad90;\n",
       "            color:  #000000;\n",
       "        }    #T_e8d6cec4_8eab_11e9_8879_42010a8c0003row2_col0 {\n",
       "            background-color:  #3b4cc0;\n",
       "            color:  #f1f1f1;\n",
       "        }    #T_e8d6cec4_8eab_11e9_8879_42010a8c0003row2_col1 {\n",
       "            background-color:  #3b4cc0;\n",
       "            color:  #f1f1f1;\n",
       "        }    #T_e8d6cec4_8eab_11e9_8879_42010a8c0003row2_col2 {\n",
       "            background-color:  #b40426;\n",
       "            color:  #f1f1f1;\n",
       "        }    #T_e8d6cec4_8eab_11e9_8879_42010a8c0003row2_col3 {\n",
       "            background-color:  #3b4cc0;\n",
       "            color:  #f1f1f1;\n",
       "        }    #T_e8d6cec4_8eab_11e9_8879_42010a8c0003row2_col4 {\n",
       "            background-color:  #3b4cc0;\n",
       "            color:  #f1f1f1;\n",
       "        }    #T_e8d6cec4_8eab_11e9_8879_42010a8c0003row2_col5 {\n",
       "            background-color:  #3b4cc0;\n",
       "            color:  #f1f1f1;\n",
       "        }    #T_e8d6cec4_8eab_11e9_8879_42010a8c0003row3_col0 {\n",
       "            background-color:  #f7ba9f;\n",
       "            color:  #000000;\n",
       "        }    #T_e8d6cec4_8eab_11e9_8879_42010a8c0003row3_col1 {\n",
       "            background-color:  #f6bfa6;\n",
       "            color:  #000000;\n",
       "        }    #T_e8d6cec4_8eab_11e9_8879_42010a8c0003row3_col2 {\n",
       "            background-color:  #6a8bef;\n",
       "            color:  #000000;\n",
       "        }    #T_e8d6cec4_8eab_11e9_8879_42010a8c0003row3_col3 {\n",
       "            background-color:  #b40426;\n",
       "            color:  #f1f1f1;\n",
       "        }    #T_e8d6cec4_8eab_11e9_8879_42010a8c0003row3_col4 {\n",
       "            background-color:  #e97a5f;\n",
       "            color:  #000000;\n",
       "        }    #T_e8d6cec4_8eab_11e9_8879_42010a8c0003row3_col5 {\n",
       "            background-color:  #f4c6af;\n",
       "            color:  #000000;\n",
       "        }    #T_e8d6cec4_8eab_11e9_8879_42010a8c0003row4_col0 {\n",
       "            background-color:  #f29072;\n",
       "            color:  #000000;\n",
       "        }    #T_e8d6cec4_8eab_11e9_8879_42010a8c0003row4_col1 {\n",
       "            background-color:  #f59d7e;\n",
       "            color:  #000000;\n",
       "        }    #T_e8d6cec4_8eab_11e9_8879_42010a8c0003row4_col2 {\n",
       "            background-color:  #6b8df0;\n",
       "            color:  #000000;\n",
       "        }    #T_e8d6cec4_8eab_11e9_8879_42010a8c0003row4_col3 {\n",
       "            background-color:  #e97a5f;\n",
       "            color:  #000000;\n",
       "        }    #T_e8d6cec4_8eab_11e9_8879_42010a8c0003row4_col4 {\n",
       "            background-color:  #b40426;\n",
       "            color:  #f1f1f1;\n",
       "        }    #T_e8d6cec4_8eab_11e9_8879_42010a8c0003row4_col5 {\n",
       "            background-color:  #f7a98b;\n",
       "            color:  #000000;\n",
       "        }    #T_e8d6cec4_8eab_11e9_8879_42010a8c0003row5_col0 {\n",
       "            background-color:  #f6bea4;\n",
       "            color:  #000000;\n",
       "        }    #T_e8d6cec4_8eab_11e9_8879_42010a8c0003row5_col1 {\n",
       "            background-color:  #f4c5ad;\n",
       "            color:  #000000;\n",
       "        }    #T_e8d6cec4_8eab_11e9_8879_42010a8c0003row5_col2 {\n",
       "            background-color:  #3b4cc0;\n",
       "            color:  #f1f1f1;\n",
       "        }    #T_e8d6cec4_8eab_11e9_8879_42010a8c0003row5_col3 {\n",
       "            background-color:  #ead5c9;\n",
       "            color:  #000000;\n",
       "        }    #T_e8d6cec4_8eab_11e9_8879_42010a8c0003row5_col4 {\n",
       "            background-color:  #f7bca1;\n",
       "            color:  #000000;\n",
       "        }    #T_e8d6cec4_8eab_11e9_8879_42010a8c0003row5_col5 {\n",
       "            background-color:  #b40426;\n",
       "            color:  #f1f1f1;\n",
       "        }</style><table id=\"T_e8d6cec4_8eab_11e9_8879_42010a8c0003\" ><thead>    <tr>        <th class=\"blank level0\" ></th>        <th class=\"col_heading level0 col0\" >logistic</th>        <th class=\"col_heading level0 col1\" >lda</th>        <th class=\"col_heading level0 col2\" >naivebayes</th>        <th class=\"col_heading level0 col3\" >rf</th>        <th class=\"col_heading level0 col4\" >xgboost</th>        <th class=\"col_heading level0 col5\" >mlp</th>    </tr></thead><tbody>\n",
       "                <tr>\n",
       "                        <th id=\"T_e8d6cec4_8eab_11e9_8879_42010a8c0003level0_row0\" class=\"row_heading level0 row0\" >logistic</th>\n",
       "                        <td id=\"T_e8d6cec4_8eab_11e9_8879_42010a8c0003row0_col0\" class=\"data row0 col0\" >1</td>\n",
       "                        <td id=\"T_e8d6cec4_8eab_11e9_8879_42010a8c0003row0_col1\" class=\"data row0 col1\" >0.977745</td>\n",
       "                        <td id=\"T_e8d6cec4_8eab_11e9_8879_42010a8c0003row0_col2\" class=\"data row0 col2\" >0.659472</td>\n",
       "                        <td id=\"T_e8d6cec4_8eab_11e9_8879_42010a8c0003row0_col3\" class=\"data row0 col3\" >0.883247</td>\n",
       "                        <td id=\"T_e8d6cec4_8eab_11e9_8879_42010a8c0003row0_col4\" class=\"data row0 col4\" >0.921678</td>\n",
       "                        <td id=\"T_e8d6cec4_8eab_11e9_8879_42010a8c0003row0_col5\" class=\"data row0 col5\" >0.879268</td>\n",
       "            </tr>\n",
       "            <tr>\n",
       "                        <th id=\"T_e8d6cec4_8eab_11e9_8879_42010a8c0003level0_row1\" class=\"row_heading level0 row1\" >lda</th>\n",
       "                        <td id=\"T_e8d6cec4_8eab_11e9_8879_42010a8c0003row1_col0\" class=\"data row1 col0\" >0.977745</td>\n",
       "                        <td id=\"T_e8d6cec4_8eab_11e9_8879_42010a8c0003row1_col1\" class=\"data row1 col1\" >1</td>\n",
       "                        <td id=\"T_e8d6cec4_8eab_11e9_8879_42010a8c0003row1_col2\" class=\"data row1 col2\" >0.682609</td>\n",
       "                        <td id=\"T_e8d6cec4_8eab_11e9_8879_42010a8c0003row1_col3\" class=\"data row1 col3\" >0.887146</td>\n",
       "                        <td id=\"T_e8d6cec4_8eab_11e9_8879_42010a8c0003row1_col4\" class=\"data row1 col4\" >0.91792</td>\n",
       "                        <td id=\"T_e8d6cec4_8eab_11e9_8879_42010a8c0003row1_col5\" class=\"data row1 col5\" >0.879868</td>\n",
       "            </tr>\n",
       "            <tr>\n",
       "                        <th id=\"T_e8d6cec4_8eab_11e9_8879_42010a8c0003level0_row2\" class=\"row_heading level0 row2\" >naivebayes</th>\n",
       "                        <td id=\"T_e8d6cec4_8eab_11e9_8879_42010a8c0003row2_col0\" class=\"data row2 col0\" >0.659472</td>\n",
       "                        <td id=\"T_e8d6cec4_8eab_11e9_8879_42010a8c0003row2_col1\" class=\"data row2 col1\" >0.682609</td>\n",
       "                        <td id=\"T_e8d6cec4_8eab_11e9_8879_42010a8c0003row2_col2\" class=\"data row2 col2\" >1</td>\n",
       "                        <td id=\"T_e8d6cec4_8eab_11e9_8879_42010a8c0003row2_col3\" class=\"data row2 col3\" >0.66296</td>\n",
       "                        <td id=\"T_e8d6cec4_8eab_11e9_8879_42010a8c0003row2_col4\" class=\"data row2 col4\" >0.665071</td>\n",
       "                        <td id=\"T_e8d6cec4_8eab_11e9_8879_42010a8c0003row2_col5\" class=\"data row2 col5\" >0.603837</td>\n",
       "            </tr>\n",
       "            <tr>\n",
       "                        <th id=\"T_e8d6cec4_8eab_11e9_8879_42010a8c0003level0_row3\" class=\"row_heading level0 row3\" >rf</th>\n",
       "                        <td id=\"T_e8d6cec4_8eab_11e9_8879_42010a8c0003row3_col0\" class=\"data row3 col0\" >0.883247</td>\n",
       "                        <td id=\"T_e8d6cec4_8eab_11e9_8879_42010a8c0003row3_col1\" class=\"data row3 col1\" >0.887146</td>\n",
       "                        <td id=\"T_e8d6cec4_8eab_11e9_8879_42010a8c0003row3_col2\" class=\"data row3 col2\" >0.66296</td>\n",
       "                        <td id=\"T_e8d6cec4_8eab_11e9_8879_42010a8c0003row3_col3\" class=\"data row3 col3\" >1</td>\n",
       "                        <td id=\"T_e8d6cec4_8eab_11e9_8879_42010a8c0003row3_col4\" class=\"data row3 col4\" >0.93991</td>\n",
       "                        <td id=\"T_e8d6cec4_8eab_11e9_8879_42010a8c0003row3_col5\" class=\"data row3 col5\" >0.849023</td>\n",
       "            </tr>\n",
       "            <tr>\n",
       "                        <th id=\"T_e8d6cec4_8eab_11e9_8879_42010a8c0003level0_row4\" class=\"row_heading level0 row4\" >xgboost</th>\n",
       "                        <td id=\"T_e8d6cec4_8eab_11e9_8879_42010a8c0003row4_col0\" class=\"data row4 col0\" >0.921678</td>\n",
       "                        <td id=\"T_e8d6cec4_8eab_11e9_8879_42010a8c0003row4_col1\" class=\"data row4 col1\" >0.91792</td>\n",
       "                        <td id=\"T_e8d6cec4_8eab_11e9_8879_42010a8c0003row4_col2\" class=\"data row4 col2\" >0.665071</td>\n",
       "                        <td id=\"T_e8d6cec4_8eab_11e9_8879_42010a8c0003row4_col3\" class=\"data row4 col3\" >0.93991</td>\n",
       "                        <td id=\"T_e8d6cec4_8eab_11e9_8879_42010a8c0003row4_col4\" class=\"data row4 col4\" >1</td>\n",
       "                        <td id=\"T_e8d6cec4_8eab_11e9_8879_42010a8c0003row4_col5\" class=\"data row4 col5\" >0.884215</td>\n",
       "            </tr>\n",
       "            <tr>\n",
       "                        <th id=\"T_e8d6cec4_8eab_11e9_8879_42010a8c0003level0_row5\" class=\"row_heading level0 row5\" >mlp</th>\n",
       "                        <td id=\"T_e8d6cec4_8eab_11e9_8879_42010a8c0003row5_col0\" class=\"data row5 col0\" >0.879268</td>\n",
       "                        <td id=\"T_e8d6cec4_8eab_11e9_8879_42010a8c0003row5_col1\" class=\"data row5 col1\" >0.879868</td>\n",
       "                        <td id=\"T_e8d6cec4_8eab_11e9_8879_42010a8c0003row5_col2\" class=\"data row5 col2\" >0.603837</td>\n",
       "                        <td id=\"T_e8d6cec4_8eab_11e9_8879_42010a8c0003row5_col3\" class=\"data row5 col3\" >0.849023</td>\n",
       "                        <td id=\"T_e8d6cec4_8eab_11e9_8879_42010a8c0003row5_col4\" class=\"data row5 col4\" >0.884215</td>\n",
       "                        <td id=\"T_e8d6cec4_8eab_11e9_8879_42010a8c0003row5_col5\" class=\"data row5 col5\" >1</td>\n",
       "            </tr>\n",
       "    </tbody></table>"
      ],
      "text/plain": [
       "<pandas.io.formats.style.Styler at 0x7fb84df57d68>"
      ]
     },
     "execution_count": 15,
     "metadata": {},
     "output_type": "execute_result"
    }
   ],
   "source": [
    "corr = df.corr()\n",
    "corr.style.background_gradient(cmap='coolwarm')\n",
    "# 'RdBu_r' & 'BrBG' are other good diverging colormaps"
   ]
  },
  {
   "cell_type": "markdown",
   "metadata": {},
   "source": [
    "#### Distribution of probabilty"
   ]
  },
  {
   "cell_type": "code",
   "execution_count": 16,
   "metadata": {},
   "outputs": [
    {
     "data": {
      "text/plain": [
       "<matplotlib.axes._subplots.AxesSubplot at 0x7fb84bc39f98>"
      ]
     },
     "execution_count": 16,
     "metadata": {},
     "output_type": "execute_result"
    },
    {
     "data": {
      "image/png": "[encoded data removed]",
      "text/plain": [
       "<Figure size 432x288 with 1 Axes>"
      ]
     },
     "metadata": {
      "needs_background": "light"
     },
     "output_type": "display_data"
    }
   ],
   "source": [
    "sns.distplot(pred_logistic[:, 1])"
   ]
  },
  {
   "cell_type": "code",
   "execution_count": 17,
   "metadata": {},
   "outputs": [
    {
     "data": {
      "text/plain": [
       "<matplotlib.axes._subplots.AxesSubplot at 0x7fb84bb395c0>"
      ]
     },
     "execution_count": 17,
     "metadata": {},
     "output_type": "execute_result"
    },
    {
     "data": {
      "image/png": "[encoded data removed]",
      "text/plain": [
       "<Figure size 432x288 with 1 Axes>"
      ]
     },
     "metadata": {
      "needs_background": "light"
     },
     "output_type": "display_data"
    }
   ],
   "source": [
    "sns.distplot(pred_lda[:, 1])"
   ]
  },
  {
   "cell_type": "code",
   "execution_count": 18,
   "metadata": {},
   "outputs": [
    {
     "data": {
      "text/plain": [
       "<matplotlib.axes._subplots.AxesSubplot at 0x7fb84bbd0f98>"
      ]
     },
     "execution_count": 18,
     "metadata": {},
     "output_type": "execute_result"
    },
    {
     "data": {
      "image/png": "[encoded data removed]",
      "text/plain": [
       "<Figure size 432x288 with 1 Axes>"
      ]
     },
     "metadata": {
      "needs_background": "light"
     },
     "output_type": "display_data"
    }
   ],
   "source": [
    "sns.distplot(pred_naivebayes[:, 1])"
   ]
  },
  {
   "cell_type": "code",
   "execution_count": 19,
   "metadata": {},
   "outputs": [
    {
     "data": {
      "text/plain": [
       "<matplotlib.axes._subplots.AxesSubplot at 0x7fb84ba3d2e8>"
      ]
     },
     "execution_count": 19,
     "metadata": {},
     "output_type": "execute_result"
    },
    {
     "data": {
      "image/png": "[encoded data removed]",
      "text/plain": [
       "<Figure size 432x288 with 1 Axes>"
      ]
     },
     "metadata": {
      "needs_background": "light"
     },
     "output_type": "display_data"
    }
   ],
   "source": [
    "sns.distplot(pred_rf[:, 1])"
   ]
  },
  {
   "cell_type": "code",
   "execution_count": 20,
   "metadata": {},
   "outputs": [
    {
     "data": {
      "text/plain": [
       "<matplotlib.axes._subplots.AxesSubplot at 0x7fb84b9c13c8>"
      ]
     },
     "execution_count": 20,
     "metadata": {},
     "output_type": "execute_result"
    },
    {
     "data": {
      "image/png": "[encoded data removed]",
      "text/plain": [
       "<Figure size 432x288 with 1 Axes>"
      ]
     },
     "metadata": {
      "needs_background": "light"
     },
     "output_type": "display_data"
    }
   ],
   "source": [
    "sns.distplot(pred_xgboost[:, 1])"
   ]
  },
  {
   "cell_type": "code",
   "execution_count": 21,
   "metadata": {},
   "outputs": [
    {
     "data": {
      "text/plain": [
       "<matplotlib.axes._subplots.AxesSubplot at 0x7fb84b92efd0>"
      ]
     },
     "execution_count": 21,
     "metadata": {},
     "output_type": "execute_result"
    },
    {
     "data": {
      "image/png": "[encoded data removed]",
      "text/plain": [
       "<Figure size 432x288 with 1 Axes>"
      ]
     },
     "metadata": {
      "needs_background": "light"
     },
     "output_type": "display_data"
    }
   ],
   "source": [
    "sns.distplot(pred_mlp[:, 1])"
   ]
  },
  {
   "cell_type": "markdown",
   "metadata": {},
   "source": [
    "### Save Weak Learners"
   ]
  },
  {
   "cell_type": "code",
   "execution_count": 31,
   "metadata": {},
   "outputs": [],
   "source": [
    "with open('../model_weights/mlp.dat', 'wb') as f:  \n",
    "    pickle.dump(mlp, f)\n",
    "    \n",
    "with open('../model_weights/naivebayes.dat', 'wb') as f:  \n",
    "    pickle.dump(naivebayes, f)"
   ]
  }
 ],
 "metadata": {
  "kernelspec": {
   "display_name": "Python 3",
   "language": "python",
   "name": "python3"
  },
  "language_info": {
   "codemirror_mode": {
    "name": "ipython",
    "version": 3
   },
   "file_extension": ".py",
   "mimetype": "text/x-python",
   "name": "python",
   "nbconvert_exporter": "python",
   "pygments_lexer": "ipython3",
   "version": "3.5.3"
  }
 },
 "nbformat": 4,
 "nbformat_minor": 2
}
